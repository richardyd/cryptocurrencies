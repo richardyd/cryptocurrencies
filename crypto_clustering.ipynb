{
 "cells": [
  {
   "cell_type": "markdown",
   "metadata": {},
   "source": [
    "# Clustering Crypto"
   ]
  },
  {
   "cell_type": "code",
   "execution_count": null,
   "metadata": {},
   "outputs": [],
   "source": [
    "# Initial imports\n",
    "import pandas as pd\n",
    "import hvplot.pandas\n",
    "# from path import Path\n",
    "import plotly.express as px\n",
    "from sklearn.preprocessing import StandardScaler, MinMaxScaler\n",
    "from sklearn.decomposition import PCA\n",
    "from sklearn.cluster import KMeans"
   ]
  },
  {
   "cell_type": "markdown",
   "metadata": {},
   "source": [
    "### Deliverable 1: Preprocessing the Data for PCA"
   ]
  },
  {
   "cell_type": "code",
   "execution_count": null,
   "metadata": {},
   "outputs": [],
   "source": [
    "# Load the crypto_data.csv dataset.\n",
    "def create_dataframe(path_name, file_name):\n",
    "    from pathlib import Path\n",
    "    input_file_path = Path(path_name, file_name)\n",
    "    df =  pd.read_csv(input_file_path, index_col=0)\n",
    "    return df\n",
    "\n",
    "def drop_column(df, col_name):\n",
    "    df = df.drop([col_name], axis=1)\n",
    "    return df\n",
    "\n",
    "def data_needs_cleaning(df):\n",
    "    null_items = {}\n",
    "    null_items=crypto_df.isna().sum()\n",
    "\n",
    "    # print(null_items)\n",
    "    \n",
    "    for null_value in null_items.values:\n",
    "        if null_value > 0:\n",
    "            return True\n",
    "\n",
    "def drop_null_entries(df):\n",
    "    df = df.dropna()\n",
    "    return df\n",
    "\n",
    "def drop_crypto_not_mined(df, col_name):\n",
    "    cc_not_mined = df[crypto_df[col_name]==0].index\n",
    "    df.drop(cc_not_mined, inplace=True)\n",
    "    return df\n",
    "\n",
    "def show_dataframe_shape(df):\n",
    "    df_shape = []\n",
    "    df_shape = df.shape\n",
    "    print(f\"rows in dataset: {df_shape[0]}\")\n",
    "    print(f\"columns in dataset: {df_shape[1]}\\n\")"
   ]
  },
  {
   "cell_type": "code",
   "execution_count": null,
   "metadata": {},
   "outputs": [],
   "source": [
    "# Load the crypto_data.csv dataset.\n",
    "crypto_df = create_dataframe('../resources/', 'crypto_data.csv')\n",
    "\n",
    "\n",
    "# Keep all the cryptocurrencies that are being traded.\n",
    "crypto_df = crypto_df[crypto_df['IsTrading'] == True]\n",
    "crypto_df = drop_column(crypto_df, 'IsTrading')\n",
    "# show_dataframe_shape(crypto_df)\n",
    "\n",
    "if data_needs_cleaning(crypto_df): \n",
    "    crypto_df = drop_null_entries(crypto_df)\n",
    "\n",
    "# Filter the crypto_df DataFrame so it only has rows where coins have been mined.\n",
    "crypto_df = drop_crypto_not_mined(crypto_df, 'TotalCoinsMined')\n",
    "# show_dataframe_shape(crypto_df)\n",
    "# crypto_df.info()\n",
    "# display(crypto_df)\n",
    "\n",
    "# Keep all the cryptocurrencies that have a working algorithm.\n",
    "crypto_df = crypto_df.dropna(axis=0, subset=['Algorithm'])\n",
    "\n",
    "# Create a new DataFrame that holds only the cryptocurrencies names.\n",
    "coins_df = pd.DataFrame(crypto_df['CoinName'])\n",
    "# display(coins_df.shape)\n",
    "# display(coins_df.head(5))\n",
    "\n",
    "n_crypto_df=drop_column(crypto_df, 'CoinName')\n",
    "\n",
    "# Use the get_dummies() method to create variables for the two text features, \n",
    "# Algorithm and ProofType, and store the resulting data in a new DataFrame named X.\n",
    "X = pd.get_dummies(n_crypto_df, columns=[\"Algorithm\", \"ProofType\"])\n",
    "display(X)\n",
    "\n",
    "# Standardize the data with StandardScaler().\n",
    "scaler = StandardScaler()\n",
    "X_scaled = scaler.fit_transform(X)\n",
    "display(X_scaled)\n"
   ]
  },
  {
   "cell_type": "markdown",
   "metadata": {},
   "source": [
    "### Deliverable 2: Reducing Data Dimensions Using PCA"
   ]
  },
  {
   "cell_type": "code",
   "execution_count": null,
   "metadata": {},
   "outputs": [],
   "source": [
    "# Using PCA to reduce dimension to three principal components.\n",
    "pca=PCA(n_components  = 3)\n",
    "X_pca = pca.fit_transform(X)\n",
    "X_pca"
   ]
  },
  {
   "cell_type": "code",
   "execution_count": null,
   "metadata": {},
   "outputs": [],
   "source": [
    "# Create a DataFrame with the three principal components.\n",
    "pcs_df = pd.DataFrame(data=X_pca, columns =['PC 1', 'PC 2', 'PC 3'], index=crypto_df.index)\n",
    "display(pcs_df.shape)\n",
    "display(pcs_df)"
   ]
  },
  {
   "cell_type": "markdown",
   "metadata": {},
   "source": [
    "### Deliverable 3: Clustering Crytocurrencies Using K-Means\n",
    "\n",
    "#### Finding the Best Value for `k` Using the Elbow Curve"
   ]
  },
  {
   "cell_type": "code",
   "execution_count": null,
   "metadata": {},
   "outputs": [],
   "source": [
    "# Create an elbow curve to find the best value for K.\n",
    "inertia = []\n",
    "k = list(range(1,11))\n",
    "for i in k:\n",
    "    k_means = KMeans(n_clusters=i, random_state=0)\n",
    "    k_means.fit(pcs_df)\n",
    "    inertia.append(k_means.inertia_)\n",
    "\n",
    "# plot the elbow curve\n",
    "e_curv_data  = {'k':k, 'inertia': inertia}\n",
    "e_curv_df = pd.DataFrame(e_curv_data)\n",
    "e_curv_df.hvplot.line(x='k', y='inertia', title= 'Delivery 2 - Elbow Curve', xticks=k)"
   ]
  },
  {
   "cell_type": "markdown",
   "metadata": {},
   "source": [
    "Running K-Means with `k=4`"
   ]
  },
  {
   "cell_type": "code",
   "execution_count": null,
   "metadata": {},
   "outputs": [],
   "source": [
    "# Initialize the K-Means model.\n",
    "model = KMeans(n_clusters=4, random_state=4)\n",
    "\n",
    "# Fit the model\n",
    "model.fit(pcs_df)\n",
    "\n",
    "# Predict clusters\n",
    "predictions = model.predict(pcs_df)\n",
    "predictions"
   ]
  },
  {
   "cell_type": "code",
   "execution_count": null,
   "metadata": {},
   "outputs": [],
   "source": [
    "# Create a new DataFrame including predicted clusters and cryptocurrencies features.\n",
    "clustered_df = pd.DataFrame(crypto_df, index = crypto_df.index)\n",
    "# Concatentate the crypto_df and pcs_df DataFrames on the same columns.\n",
    "clustered_df['PC 1']= pcs_df['PC 1']\n",
    "clustered_df['PC 2']= pcs_df['PC 2']\n",
    "clustered_df['PC 3']= pcs_df['PC 3']\n",
    "display(clustered_df)\n",
    "#  Add a new column, \"CoinName\" to the clustered_df DataFrame that holds the names of the cryptocurrencies. \n",
    "clustered_df['CoinName'] = coins_df['CoinName']\n",
    "clustered_df['Class'] = model.labels_\n",
    "#  Add a new column, \"Class\" to the clustered_df DataFrame that holds the predictions.\n",
    "# YOUR CODE HERE\n",
    "\n",
    "# Print the shape of the clustered_df\n",
    "print(clustered_df.shape)\n",
    "clustered_df.head(10)"
   ]
  },
  {
   "cell_type": "markdown",
   "metadata": {},
   "source": [
    "### Deliverable 4: Visualizing Cryptocurrencies Results\n",
    "\n",
    "#### 3D-Scatter with Clusters"
   ]
  },
  {
   "cell_type": "code",
   "execution_count": null,
   "metadata": {},
   "outputs": [],
   "source": [
    "# Creating a 3D-Scatter with the PCA data and the clusters\n",
    "fig1 = px.scatter_3d(\n",
    "    clustered_df,\n",
    "    x=\"PC 1\",\n",
    "    y=\"PC 2\",\n",
    "    z=\"PC 3\",\n",
    "    color=\"Class\",\n",
    "    symbol=\"Class\",\n",
    "    hover_name=\"CoinName\",\n",
    "    hover_data=[\"Algorithm\"])\n",
    "fig1.update_layout(legend=dict(x=0,y=1))\n",
    "fig1.show()"
   ]
  },
  {
   "cell_type": "code",
   "execution_count": null,
   "metadata": {},
   "outputs": [],
   "source": [
    "# Create a table with tradable cryptocurrencies.\n",
    "clustered_df.hvplot.table(columns=['CoinName', 'Algorithm', 'ProofType', 'TotalCoinSupply', 'TotalCoinsMined', 'Class'])"
   ]
  },
  {
   "cell_type": "code",
   "execution_count": null,
   "metadata": {},
   "outputs": [],
   "source": [
    "# Print the total number of tradable cryptocurrencies.\n",
    "print(f\"There are {clustered_df['CoinName'].count()} tradable cryptocurrencies.\" )"
   ]
  },
  {
   "cell_type": "code",
   "execution_count": null,
   "metadata": {},
   "outputs": [],
   "source": [
    "# Scaling data to create the scatter plot with tradable cryptocurrencies.\n",
    "tradable_currency_df = pd.DataFrame(clustered_df[['TotalCoinSupply', 'TotalCoinsMined']])\n",
    "display(tradable_currency_df)\n",
    "X_tc_scaled = MinMaxScaler().fit_transform(tradable_currency_df)\n",
    "X_tc_scaled"
   ]
  },
  {
   "cell_type": "code",
   "execution_count": null,
   "metadata": {},
   "outputs": [],
   "source": [
    "# Create a new DataFrame that has the scaled data with the clustered_df DataFrame index.\n",
    "n_scaled_df = pd.DataFrame(data=X_tc_scaled, columns=['TotalCoinSupply', 'TotalCoinsMined'], index= tradable_currency_df.index.tolist())\n",
    "\n",
    "\n",
    "# Add the \"CoinName\" column from the clustered_df DataFrame to the new DataFrame.\n",
    "n_scaled_df=n_scaled_df.join(coins_df, how='inner')\n",
    "n_scaled_df=n_scaled_df.join(clustered_df['Class'], how='inner')\n",
    "display(n_scaled_df)"
   ]
  },
  {
   "cell_type": "code",
   "execution_count": null,
   "metadata": {},
   "outputs": [],
   "source": [
    "# Create a hvplot.scatter plot using x=\"TotalCoinsMined\" and y=\"TotalCoinSupply\".\n",
    "n_scaled_df.hvplot.scatter(x=\"TotalCoinsMined\", y=\"TotalCoinSupply\", by=\"Class\",\n",
    "                          xlabel=\"Total Cryptocurrency Coins Mined\",\n",
    "                          ylabel=\"Total Cryptocurrency Coin Supply\",\n",
    "                          )"
   ]
  },
  {
   "cell_type": "code",
   "execution_count": null,
   "metadata": {},
   "outputs": [],
   "source": []
  }
 ],
 "metadata": {
  "file_extension": ".py",
  "kernelspec": {
   "name": "python3",
   "display_name": "Python 3.9.5 64-bit ('mlenv': conda)"
  },
  "language_info": {
   "codemirror_mode": {
    "name": "ipython",
    "version": 3
   },
   "file_extension": ".py",
   "mimetype": "text/x-python",
   "name": "python",
   "nbconvert_exporter": "python",
   "pygments_lexer": "ipython3",
   "version": "3.9.5"
  },
  "latex_envs": {
   "LaTeX_envs_menu_present": true,
   "autoclose": false,
   "autocomplete": true,
   "bibliofile": "biblio.bib",
   "cite_by": "apalike",
   "current_citInitial": 1,
   "eqLabelWithNumbers": true,
   "eqNumInitial": 1,
   "hotkeys": {
    "equation": "Ctrl-E",
    "itemize": "Ctrl-I"
   },
   "labels_anchors": false,
   "latex_user_defs": false,
   "report_style_numbering": false,
   "user_envs_cfg": false
  },
  "mimetype": "text/x-python",
  "name": "python",
  "npconvert_exporter": "python",
  "pygments_lexer": "ipython3",
  "version": 3,
  "interpreter": {
   "hash": "c8664c37d20d1a667b792eed6f68d26a151ec74784f499ac31579ebbdd16e46a"
  }
 },
 "nbformat": 4,
 "nbformat_minor": 2
}